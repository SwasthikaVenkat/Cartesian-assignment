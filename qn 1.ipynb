{
 "cells": [
  {
   "cell_type": "code",
   "execution_count": 2,
   "id": "d604af11",
   "metadata": {},
   "outputs": [
    {
     "name": "stdout",
     "output_type": "stream",
     "text": [
      "The giant panda, also known as the panda bear, is a bear species endemic to China. It is characterised by its bold black-and-white coat and rotund body. The name \"giant panda\" is sometimes used to distinguish it from the red panda, a neighboring musteloid.\n",
      "Musteloid. neighboring a panda, red the from it distinguish to used sometimes is panda\" \"giant name the body. rotund and coat black-and-white bold its by characterised is it china. to endemic species bear a is bear, panda the as known also panda, giant the\n",
      "[('the', 4), ('is', 3)]\n"
     ]
    }
   ],
   "source": [
    "n=input()\n",
    "a=n.split(' ')\n",
    "reverse=' '.join(a[::-1]).lower()\n",
    "b=reverse.capitalize()\n",
    "print(b)\n",
    "from collections import Counter\n",
    "split_it = b.split()\n",
    "Count = Counter(split_it)\n",
    "most_occured = Count.most_common(2)\n",
    "print(most_occured)"
   ]
  },
  {
   "cell_type": "code",
   "execution_count": null,
   "id": "4dcf3ad2",
   "metadata": {},
   "outputs": [],
   "source": []
  }
 ],
 "metadata": {
  "kernelspec": {
   "display_name": "Python 3 (ipykernel)",
   "language": "python",
   "name": "python3"
  },
  "language_info": {
   "codemirror_mode": {
    "name": "ipython",
    "version": 3
   },
   "file_extension": ".py",
   "mimetype": "text/x-python",
   "name": "python",
   "nbconvert_exporter": "python",
   "pygments_lexer": "ipython3",
   "version": "3.9.12"
  }
 },
 "nbformat": 4,
 "nbformat_minor": 5
}
